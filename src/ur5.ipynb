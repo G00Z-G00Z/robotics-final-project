{
 "cells": [
  {
   "cell_type": "markdown",
   "id": "35eb135d",
   "metadata": {},
   "source": [
    "# UR5 Simulation forward kinematics\n",
    "**Author** Eduardo Gomez\n",
    "\n",
    "Using the Denavit-Hartenberg parameters of the UR5, program the forward kinematics"
   ]
  },
  {
   "cell_type": "code",
   "execution_count": 1,
   "id": "f8556ade-cabe-4e90-a422-4127f01d6493",
   "metadata": {
    "tags": []
   },
   "outputs": [],
   "source": [
    "# Import libraries\n",
    "import zmqRemoteApi\n",
    "import numpy as np\n",
    "from time import sleep\n",
    "from pathlib import Path\n",
    "import pandas as pd\n",
    "import utils\n",
    "from utils import print_rounded_np"
   ]
  },
  {
   "cell_type": "markdown",
   "id": "6dce8dea-05ae-41eb-a6e4-87944a1bbd31",
   "metadata": {},
   "source": [
    "## Setup Data\n",
    "\n",
    "Here we will set up the data for the Denavit-Hartenberg parameters. The data was from: ..."
   ]
  },
  {
   "cell_type": "code",
   "execution_count": 2,
   "id": "44fa6600-9418-4d98-a53c-01f93f1c4eb6",
   "metadata": {
    "tags": []
   },
   "outputs": [],
   "source": [
    "# First one I think is wrong\n",
    "\n"
   ]
  },
  {
   "cell_type": "markdown",
   "id": "fceba07e-ab01-49b4-89ce-4fbaab117029",
   "metadata": {},
   "source": [
    "The matriz transformations can be expressed like these: \n",
    "\n",
    "$$\n",
    "H_i^{i-1} = Rot_z(\\theta_i)T(0,0,d_i)T(a_i, 0, 0)Rotx(\\alpha_i)\n",
    "$$\n",
    "\n",
    "Esto se lee como una rotacion $\\theta$ en $z$, una translacion $d$ en $z$, translacion $a$ en $x$ y rotacion $\\alpha$ en $x$,\n",
    "\n",
    "Here we'll define some utility functions"
   ]
  },
  {
   "cell_type": "markdown",
   "id": "f8be8ae1-d2e0-4fd2-8b9f-c4160be83c3d",
   "metadata": {},
   "source": [
    "# Transformation matrix calcs\n",
    "\n",
    "Because for the moment, all $\\theta = 0$, the final coord is in the final matrix"
   ]
  },
  {
   "cell_type": "markdown",
   "id": "9e2096f9-a6e1-4ecf-a0ab-edb8c5270d9e",
   "metadata": {},
   "source": [
    "## Setup simulation\n",
    "\n",
    "To set up the simulation, open the `./sim/ur5-simulation.ttt` file. Then run the following code: \n",
    "\n",
    "> If there is an error, either the file is not opened or another script is controlling it"
   ]
  },
  {
   "cell_type": "code",
   "execution_count": 3,
   "id": "1b5c2c76",
   "metadata": {
    "tags": []
   },
   "outputs": [
    {
     "name": "stdout",
     "output_type": "stream",
     "text": [
      "<class 'zmqRemoteApi.sim'>\n"
     ]
    }
   ],
   "source": [
    "# Create a client to get connected to the zmqremoteApi sernver from CoppeliaSim\n",
    "client = zmqRemoteApi.RemoteAPIClient()\n",
    "\n",
    "# Get the remote object 'sim'\n",
    "sim = client.getObject('sim')\n",
    "\n",
    "print(sim)"
   ]
  },
  {
   "cell_type": "markdown",
   "id": "49667f4e-3c06-45b2-9759-d077210e57e0",
   "metadata": {},
   "source": [
    "Here, we set up the id for controlling the robot"
   ]
  },
  {
   "cell_type": "code",
   "execution_count": 4,
   "id": "c70d0865-1afb-40ca-8583-6f611a026e3e",
   "metadata": {
    "tags": []
   },
   "outputs": [],
   "source": [
    "UR5_sim_obj_id = \"/UR5\"\n",
    "base_id = sim.getObject(UR5_sim_obj_id)\n",
    "\n",
    "# the last joint is the rotor for the end effector\n",
    "# does not affect the final position\n",
    "no_joints = 6\n",
    "joint_sim_names = [None for _ in range(6)]\n",
    "\n",
    "joint_sim_names[0] = f\"{UR5_sim_obj_id}/joint\"\n",
    "\n",
    "for i in range(1,len(joint_sim_names)):\n",
    "    link_joint_str = \"/link/joint\" * i\n",
    "    joint_sim_names[i] = f\"{UR5_sim_obj_id}{link_joint_str}\"\n",
    "\n",
    "connection_name = f\"{UR5_sim_obj_id}/connection\""
   ]
  },
  {
   "cell_type": "code",
   "execution_count": 5,
   "id": "6a196daf-e287-496d-adc1-019c88de80a7",
   "metadata": {
    "tags": []
   },
   "outputs": [],
   "source": [
    "# Assert that names have id. Error is thrown if id doesnt exists\n",
    "joint_id = [\n",
    "    sim.getObject(name) for name in joint_sim_names\n",
    "]\n",
    "connection_id = sim.getObject(connection_name)"
   ]
  },
  {
   "cell_type": "markdown",
   "id": "b55cfea0-85b4-4c42-bf64-fd177188fa95",
   "metadata": {},
   "source": [
    "# Calculating Direct kinematics\n",
    "\n",
    "Here we can use the direct kinematics using the matrices"
   ]
  },
  {
   "cell_type": "code",
   "execution_count": 6,
   "id": "be7d2ecc-61d2-4d81-8331-a65199ff508d",
   "metadata": {},
   "outputs": [
    {
     "name": "stdout",
     "output_type": "stream",
     "text": [
      "[[ 0.       0.      -1.      -0.09558]\n",
      " [ 0.       1.       0.       0.     ]\n",
      " [ 1.       0.       0.       0.97805]\n",
      " [ 0.       0.       0.       1.     ]]\n",
      "initial\n",
      "[ 0. -0.  0.]\n",
      "final\n",
      "[-0.0956  0.      0.9781]\n",
      "predicted\n",
      "[-0.0956 -0.      0.9781  1.    ]\n"
     ]
    }
   ],
   "source": [
    "\n",
    "matrices = utils.get_transformation_matrices_for_joint_list(sim,joint_id)\n",
    "final = utils.mul_homogenous_matrixes(matrices)\n",
    "\n",
    "assert len(matrices) + 1 == len(joint_id)\n",
    "print(final)\n",
    "\n",
    "p0 = sim.getObjectPosition(joint_id[0], sim.handle_world)\n",
    "pf = sim.getObjectPosition(joint_id[-1], sim.handle_world)\n",
    "\n",
    "print(\"initial\")\n",
    "utils.print_rounded_np(p0)\n",
    "\n",
    "print(\"final\")\n",
    "utils.print_rounded_np(pf)\n",
    "\n",
    "print(\"predicted\")\n",
    "p0_homogeneous =  utils.get_homogenous_point_3d(np.array(p0))\n",
    "pp = final @ p0_homogeneous\n",
    "utils.print_rounded_np(pp)\n",
    "\n",
    "\n"
   ]
  },
  {
   "cell_type": "markdown",
   "id": "2dd135aa-574c-474e-bc90-700e6477e24e",
   "metadata": {},
   "source": [
    "# Predicting the final position using Homogeneous matrices"
   ]
  },
  {
   "cell_type": "code",
   "execution_count": 9,
   "id": "9cbb189d-bde1-4934-b59d-2f4b3db21809",
   "metadata": {},
   "outputs": [
    {
     "name": "stdout",
     "output_type": "stream",
     "text": [
      "<utils.simulation.RobotArm object at 0x7fea91d0e680>\n"
     ]
    }
   ],
   "source": [
    "\n",
    "joints = []\n",
    "\n",
    "for _id in joint_id:\n",
    "    joints.append(utils.Joint(sim,_id))\n",
    "\n",
    "links = []\n",
    "\n",
    "for prev,_next in utils.window_iter(joints,2):\n",
    "    links.append(utils.Link(sim, prev,_next))\n",
    "    \n",
    "robot_arm = utils.RobotArm(links)\n",
    "\n",
    "print(robot_arm)\n",
    "\n",
    "\n",
    "\n"
   ]
  },
  {
   "cell_type": "code",
   "execution_count": null,
   "id": "f3d39f58-51fc-4830-8237-41320028d610",
   "metadata": {},
   "outputs": [],
   "source": []
  },
  {
   "cell_type": "code",
   "execution_count": 8,
   "id": "759e7568-79bc-4550-986a-84629fad528d",
   "metadata": {
    "tags": []
   },
   "outputs": [
    {
     "data": {
      "text/plain": [
       "0"
      ]
     },
     "execution_count": 8,
     "metadata": {},
     "output_type": "execute_result"
    }
   ],
   "source": [
    "sim.stopSimulation()"
   ]
  }
 ],
 "metadata": {
  "kernelspec": {
   "display_name": "Python 3 (ipykernel)",
   "language": "python",
   "name": "python3"
  },
  "language_info": {
   "codemirror_mode": {
    "name": "ipython",
    "version": 3
   },
   "file_extension": ".py",
   "mimetype": "text/x-python",
   "name": "python",
   "nbconvert_exporter": "python",
   "pygments_lexer": "ipython3",
   "version": "3.10.6"
  }
 },
 "nbformat": 4,
 "nbformat_minor": 5
}
