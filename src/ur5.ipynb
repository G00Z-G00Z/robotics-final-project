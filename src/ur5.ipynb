{
 "cells": [
  {
   "cell_type": "markdown",
   "id": "35eb135d",
   "metadata": {},
   "source": [
    "# UR5 Simulation forward kinematics\n",
    "**Author** Eduardo Gomez\n",
    "\n",
    "Using the Denavit-Hartenberg parameters of the UR5, program the forward kinematics"
   ]
  },
  {
   "cell_type": "code",
   "execution_count": 49,
   "id": "f8556ade-cabe-4e90-a422-4127f01d6493",
   "metadata": {
    "tags": []
   },
   "outputs": [],
   "source": [
    "# Import libraries\n",
    "import zmqRemoteApi\n",
    "import numpy as np\n",
    "from time import sleep\n",
    "from pathlib import Path\n",
    "import pandas as pd"
   ]
  },
  {
   "cell_type": "markdown",
   "id": "6dce8dea-05ae-41eb-a6e4-87944a1bbd31",
   "metadata": {},
   "source": [
    "## Setup Data\n",
    "\n",
    "Here we will set up the data for the Denavit-Hartenberg parameters. The data was from: ..."
   ]
  },
  {
   "cell_type": "code",
   "execution_count": 50,
   "id": "0ec51fe2-a8f3-4eae-83f5-63c72ae3e643",
   "metadata": {
    "tags": []
   },
   "outputs": [
    {
     "name": "stdout",
     "output_type": "stream",
     "text": [
      "  Kinematics  theta_[rad]   a_[m]   d_[m]  alpha_[rad]\n",
      "0    Joint_1            0  0.0000  0.1625         1.57\n",
      "1    Joint_2            0 -0.4250  0.0000         0.00\n",
      "2    Joint_3            0 -0.3922  0.0000         0.00\n",
      "3    Joint_4            0  0.0000  0.1333         1.57\n",
      "4    Joint_5            0  0.0000  0.0997        -1.57\n"
     ]
    }
   ],
   "source": [
    "df = pd.read_csv(\"../data/ur5-kinematics.csv\")\n",
    "print(df.head())"
   ]
  },
  {
   "cell_type": "markdown",
   "id": "fceba07e-ab01-49b4-89ce-4fbaab117029",
   "metadata": {},
   "source": [
    "The matriz transformations can be expressed like these: \n",
    "\n",
    "$$\n",
    "H_i^{i-1} = Rot_z(\\theta_i)T(0,0,d_i)T(a_i, 0, 0)Rotx(\\alpha_i)\n",
    "$$\n",
    "\n",
    "Esto se lee como una rotacion $\\theta$ en $z$, una translacion $d$ en $z$, translacion $a$ en $x$ y rotacion $\\alpha$ en $x$,\n",
    "\n",
    "Here we'll define some utility functions"
   ]
  },
  {
   "cell_type": "code",
   "execution_count": 63,
   "id": "daf0797e-1bf2-4518-9363-1193b03532b9",
   "metadata": {
    "tags": []
   },
   "outputs": [],
   "source": [
    "from collections.abc import Callable\n",
    "import numpy as np\n",
    "from functools import wraps\n",
    "\n",
    "\n",
    "def deg_args(f: Callable):\n",
    "    \"\"\"\n",
    "    Transforms all the arguments, assuming to be deg, to rads\n",
    "    \"\"\"\n",
    "\n",
    "    @wraps(f)\n",
    "    def wrapper(*args, **kwargs):\n",
    "        new_args = [np.deg2rad(arg) for arg in args]\n",
    "        new_kwargs = {key: np.deg2rad(value) for key, value in kwargs.items()}\n",
    "        return f(*new_args, **new_kwargs)\n",
    "\n",
    "    return wrapper\n",
    "\n",
    "\n",
    "@deg_args\n",
    "def rotation_3d_deg(yau_z : float = 0, theta_y : float = 0, phi_x : float = 0 ):\n",
    "    \"\"\"\n",
    "    Returns the rotation matrix in 2d, given the angles\n",
    "    The angles are calculated assuming the axis is the axis of rotation\n",
    "    \"\"\"\n",
    "    R_x = np.array(\n",
    "        [\n",
    "            [1, 0, 0],\n",
    "            [0, np.cos(phi_x), -np.sin(phi_x)],\n",
    "            [0, np.sin(phi_x), np.cos(phi_x)],\n",
    "        ]\n",
    "    )\n",
    "\n",
    "    R_y = np.array(\n",
    "        [\n",
    "            [np.cos(theta_y), 0, np.sin(theta_y)],\n",
    "            [0, 1, 0],\n",
    "            [-np.sin(theta_y), 0, np.cos(theta_y)],\n",
    "        ]\n",
    "    )\n",
    "\n",
    "    R_z = np.array(\n",
    "        [\n",
    "            [np.cos(yau_z), -np.sin(yau_z), 0],\n",
    "            [np.sin(yau_z), np.cos(yau_z), 0],\n",
    "            [0, 0, 1],\n",
    "        ]\n",
    "    )\n",
    "\n",
    "    return R_z @ R_y @ R_x, {\"R_z\": R_z, \"R_y\": R_y, \"R_x\": R_x}\n",
    "\n",
    "\n",
    "def add_translation_to_rotation_3d(rotation_3d: np.ndarray, p: np.ndarray):\n",
    "    return np.block([[rotation_3d, np.reshape(p, (3, 1))], [np.zeros((1, 3)), 1]])\n",
    "\n",
    "\n",
    "def get_homogenous_point_3d(p: np.ndarray):\n",
    "    return np.block([p, 1])\n",
    "\n",
    "\n",
    "def mul_homogenous_matrixes(transform_matrices: list[np.ndarray]) -> np.ndarray:\n",
    "    \"\"\"\n",
    "    Multiplies a list of homogeneous matrixes, from right to left\n",
    "    \"\"\"\n",
    "    return reduce(lambda prev, next: next @ prev, transform_matrices[::-1])\n",
    "\n"
   ]
  },
  {
   "cell_type": "code",
   "execution_count": 52,
   "id": "eec06e37-f7ad-4ea5-9fa4-17b1b1347ca1",
   "metadata": {
    "tags": []
   },
   "outputs": [],
   "source": [
    "# this is the identity matrix for rotation\n",
    "NO_ROTATION_MATRIX, _ = rotation_3d_deg(0, 0, 0)\n",
    "NO_TRANSLATION_VEC = np.array([0,0,0])\n",
    "\n",
    "\n",
    "def get_homogenous_mat_for_joint(theta : float, alpha : float, a : float, d : float):\n",
    "    \"\"\"\n",
    "    Esto se lee como una rotacion $\\theta$ en $z$, una translacion $d$ en $z$, translacion $a$ en $x$ y rotacion $\\alpha$ en $x$,\n",
    "    \"\"\"\n",
    "    rotation_z, _ = rotation_3d_deg(yau_z=theta)\n",
    "    rotation_z = add_translation_to_rotation_3d(rotation_z, NO_TRANSLATION_VEC)\n",
    "    rotation_x, _ = rotation_3d_deg(phi_x=alpha)\n",
    "    rotation_x = add_translation_to_rotation_3d(rotation_x, NO_TRANSLATION_VEC)\n",
    "    \n",
    "    \n",
    "    translation_x = add_translation_to_rotation_3d(NO_ROTATION_MATRIX, np.array([a, 0, 0]))\n",
    "    translation_z = add_translation_to_rotation_3d(NO_ROTATION_MATRIX, np.array([0, 0, d]))\n",
    "    \n",
    "    H = rotation_z @ translation_z @ translation_x @ rotation_x\n",
    "    return H\n"
   ]
  },
  {
   "cell_type": "code",
   "execution_count": 53,
   "id": "0ee909eb-de9c-4788-acc9-90237f256572",
   "metadata": {
    "tags": []
   },
   "outputs": [
    {
     "name": "stdout",
     "output_type": "stream",
     "text": [
      "[[ 1.          0.          0.         14.        ]\n",
      " [ 0.          0.98480775 -0.17364818  0.        ]\n",
      " [ 0.          0.17364818  0.98480775 50.        ]\n",
      " [ 0.          0.          0.          1.        ]]\n"
     ]
    }
   ],
   "source": [
    "H = get_homogenous_mat_for_joint(0, 10, 14, 50)\n",
    "print(H)"
   ]
  },
  {
   "cell_type": "code",
   "execution_count": 54,
   "id": "d36bb94b-2385-4439-9236-af64f087cdce",
   "metadata": {
    "tags": []
   },
   "outputs": [
    {
     "name": "stdout",
     "output_type": "stream",
     "text": [
      "  Kinematics  theta_[rad]   a_[m]   d_[m]  alpha_[rad]\n",
      "0    Joint_1            0  0.0000  0.1625         1.57\n",
      "1    Joint_2            0 -0.4250  0.0000         0.00\n",
      "2    Joint_3            0 -0.3922  0.0000         0.00\n",
      "3    Joint_4            0  0.0000  0.1333         1.57\n",
      "4    Joint_5            0  0.0000  0.0997        -1.57\n",
      "5    Joint_6            0  0.0000  0.0996         0.00\n"
     ]
    }
   ],
   "source": [
    "print(df)"
   ]
  },
  {
   "cell_type": "code",
   "execution_count": 64,
   "id": "d9faec11-07f2-45aa-8322-24a79ac024aa",
   "metadata": {
    "tags": []
   },
   "outputs": [
    {
     "name": "stdout",
     "output_type": "stream",
     "text": [
      "[[ 1.          0.          0.         -0.8172    ]\n",
      " [ 0.          0.99996267 -0.00864102  0.00365261]\n",
      " [ 0.          0.00864102  0.99996267  1.57001461]\n",
      " [ 0.          0.          0.          1.        ]]\n"
     ]
    }
   ],
   "source": [
    "from functools import reduce\n",
    "\n",
    "\n",
    "H_mats = [\n",
    "    get_homogenous_mat_for_joint(theta=row[\"theta_[rad]\"], a=row[\"a_[m]\"], alpha=row[\"d_[m]\"], d=row[\"alpha_[rad]\"])\n",
    "    for _, row in df.iterrows()\n",
    " ]\n",
    "\n",
    "H_total = mul_homogenous_matrixes(H_mats)\n",
    "\n",
    "print(H_total)\n",
    "\n",
    "\n",
    "\n"
   ]
  },
  {
   "cell_type": "markdown",
   "id": "9e2096f9-a6e1-4ecf-a0ab-edb8c5270d9e",
   "metadata": {},
   "source": [
    "## Setup simulation\n",
    "\n",
    "To set up the simulation, open the `./sim/ur5-simulation.ttt` file. Then run the following code: \n",
    "\n",
    "> If there is an error, either the file is not opened or another script is controlling it"
   ]
  },
  {
   "cell_type": "code",
   "execution_count": 65,
   "id": "1b5c2c76",
   "metadata": {},
   "outputs": [],
   "source": [
    "# Create a client to get connected to the zmqremoteApi sernver from CoppeliaSim\n",
    "client = zmqRemoteApi.RemoteAPIClient()\n",
    "\n",
    "# Get the remote object 'sim'\n",
    "sim = client.getObject('sim')\n"
   ]
  },
  {
   "cell_type": "markdown",
   "id": "49667f4e-3c06-45b2-9759-d077210e57e0",
   "metadata": {},
   "source": [
    "Here, we set up the id for controlling the robot"
   ]
  },
  {
   "cell_type": "code",
   "execution_count": 66,
   "id": "c70d0865-1afb-40ca-8583-6f611a026e3e",
   "metadata": {
    "tags": []
   },
   "outputs": [],
   "source": [
    "UR5_sim_obj_id = \"/UR5\"\n",
    "base_id = sim.getObject(UR5_sim_obj_id)\n",
    "\n",
    "# the last joint is the rotor for the end effector\n",
    "# does not affect the final position\n",
    "no_joints = 6\n",
    "joint_sim_names = [None for _ in range(6)]\n",
    "\n",
    "joint_sim_names[0] = f\"{UR5_sim_obj_id}/joint\"\n",
    "\n",
    "for i in range(1,len(joint_sim_names)):\n",
    "    link_joint_str = \"/link/joint\" * i\n",
    "    joint_sim_names[i] = f\"{UR5_sim_obj_id}{link_joint_str}\"\n",
    "\n",
    "connection_name = f\"{UR5_sim_obj_id}/connection\""
   ]
  },
  {
   "cell_type": "code",
   "execution_count": 67,
   "id": "6a196daf-e287-496d-adc1-019c88de80a7",
   "metadata": {
    "tags": []
   },
   "outputs": [],
   "source": [
    "# Assert that names have id. Error is thrown if id doesnt exists\n",
    "joint_id = [\n",
    "    sim.getObject(name) for name in joint_sim_names\n",
    "]\n",
    "connection_id = sim.getObject(connection_name)"
   ]
  },
  {
   "cell_type": "code",
   "execution_count": 68,
   "id": "9538f426-3e15-4fa8-8f39-7e7749030714",
   "metadata": {
    "tags": []
   },
   "outputs": [],
   "source": [
    "def reset_arm():\n",
    "    \"\"\"\n",
    "    Resets the arm position to 0 deg\n",
    "    \"\"\"\n",
    "    for j in joint_id:\n",
    "        sim.setJointTargetPosition(j, np.deg2rad(0))"
   ]
  },
  {
   "cell_type": "code",
   "execution_count": null,
   "id": "2f8fc966-fa6b-49b9-a5a1-1491df7609bb",
   "metadata": {},
   "outputs": [],
   "source": [
    "Here we start the simulation"
   ]
  },
  {
   "cell_type": "code",
   "execution_count": 69,
   "id": "ebf11839-2185-40c9-a05a-4642fcdc40a8",
   "metadata": {},
   "outputs": [
    {
     "data": {
      "text/plain": [
       "1"
      ]
     },
     "execution_count": 69,
     "metadata": {},
     "output_type": "execute_result"
    }
   ],
   "source": [
    "sim.startSimulation()"
   ]
  },
  {
   "cell_type": "code",
   "execution_count": 70,
   "id": "f06dc0a7-0d9a-420b-a4a5-f2dc4ad9c510",
   "metadata": {
    "tags": []
   },
   "outputs": [],
   "source": [
    "reset_arm()"
   ]
  },
  {
   "cell_type": "code",
   "execution_count": 71,
   "id": "035b4354-f872-4628-864d-05052029dd7e",
   "metadata": {
    "tags": []
   },
   "outputs": [
    {
     "name": "stdout",
     "output_type": "stream",
     "text": [
      "[-0.38503810662955174, 0.22499981038377784, 1.0011865280398988]\n",
      "Connection final position\n",
      "[-0.04242355723547914, 0.12796914759588116, 0.7989468163579071]\n"
     ]
    }
   ],
   "source": [
    "\n",
    "print(sim.getObjectPosition(connection_id, sim.handle_world))\n",
    "angles = [90, -45, 80, -40, 100, 80]\n",
    "angles = [np.deg2rad(a) for a in angles]\n",
    "assert len(angles) == no_joints\n",
    "\n",
    "for a, j in zip(angles, joint_id):\n",
    "    sim.setJointTargetPosition(j, a)\n",
    "\n",
    "sleep(1)\n",
    "print(\"Connection final position\")\n",
    "print(sim.getObjectPosition(connection_id, sim.handle_world))\n",
    "\n"
   ]
  },
  {
   "cell_type": "markdown",
   "id": "571f8c27-d79e-473e-aa34-e8e06302d332",
   "metadata": {},
   "source": [
    "Here we stop the simulation"
   ]
  },
  {
   "cell_type": "code",
   "execution_count": 11,
   "id": "759e7568-79bc-4550-986a-84629fad528d",
   "metadata": {
    "tags": []
   },
   "outputs": [
    {
     "data": {
      "text/plain": [
       "1"
      ]
     },
     "execution_count": 11,
     "metadata": {},
     "output_type": "execute_result"
    }
   ],
   "source": [
    "sim.stopSimulation()"
   ]
  }
 ],
 "metadata": {
  "kernelspec": {
   "display_name": "Python 3 (ipykernel)",
   "language": "python",
   "name": "python3"
  },
  "language_info": {
   "codemirror_mode": {
    "name": "ipython",
    "version": 3
   },
   "file_extension": ".py",
   "mimetype": "text/x-python",
   "name": "python",
   "nbconvert_exporter": "python",
   "pygments_lexer": "ipython3",
   "version": "3.10.6"
  }
 },
 "nbformat": 4,
 "nbformat_minor": 5
}
