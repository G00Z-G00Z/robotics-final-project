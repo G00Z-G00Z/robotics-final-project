{
 "cells": [
  {
   "cell_type": "markdown",
   "id": "35eb135d",
   "metadata": {},
   "source": [
    "## Controlling a two-link robotic arm from Python using zqmRemoteApi"
   ]
  },
  {
   "cell_type": "code",
   "execution_count": 77,
   "id": "f8556ade-cabe-4e90-a422-4127f01d6493",
   "metadata": {
    "tags": []
   },
   "outputs": [],
   "source": [
    "# Import standard libraries\n",
    "import zmqRemoteApi\n",
    "import numpy as np\n",
    "from time import sleep"
   ]
  },
  {
   "cell_type": "code",
   "execution_count": 28,
   "id": "1b5c2c76",
   "metadata": {},
   "outputs": [],
   "source": [
    "# Create a client to get connected to the zmqremoteApi sernver from CoppeliaSim\n",
    "client = zmqRemoteApi.RemoteAPIClient()\n",
    "\n",
    "# Get the remote object 'sim'\n",
    "sim = client.getObject('sim')\n",
    "\n",
    "# Call a function of the API\n",
    "base_id = sim.getObject('/base')"
   ]
  },
  {
   "cell_type": "code",
   "execution_count": 29,
   "id": "dac03762",
   "metadata": {},
   "outputs": [
    {
     "name": "stdout",
     "output_type": "stream",
     "text": [
      "15\n"
     ]
    }
   ],
   "source": [
    "print(base_id)"
   ]
  },
  {
   "cell_type": "code",
   "execution_count": 59,
   "id": "3360deb2",
   "metadata": {},
   "outputs": [],
   "source": [
    "# Get IDs of each component of the 2D robotic arm\n",
    "joint1 = sim.getObject('/base/joint1')\n",
    "link1  = sim.getObject('/base/link1')\n",
    "joint2 = sim.getObject('/base/joint2')\n",
    "link2  = sim.getObject('/base/link2')\n",
    "dummy  = sim.getObject('/base/Dummy')"
   ]
  },
  {
   "cell_type": "code",
   "execution_count": 60,
   "id": "2a4ed3c0",
   "metadata": {},
   "outputs": [
    {
     "name": "stdout",
     "output_type": "stream",
     "text": [
      "joint1's ID: 16\n",
      "link1's ID: 17\n",
      "Joint2's ID: 18\n",
      "link2's ID: 19\n"
     ]
    }
   ],
   "source": [
    "# Print IDs\n",
    "print(f\"joint1's ID: {joint1}\")\n",
    "print(f\"link1's ID: {link1}\")\n",
    "print(f\"Joint2's ID: {joint2}\")\n",
    "print(f\"link2's ID: {link2}\")\n"
   ]
  },
  {
   "cell_type": "code",
   "execution_count": 32,
   "id": "9e64ea47-c094-4cee-9c84-c4041a4f2643",
   "metadata": {
    "tags": []
   },
   "outputs": [],
   "source": [
    "def reset_arms(sim, joint1, joint2):\n",
    "    sim.setJointTargetPosition(joint1, 0)\n",
    "    sim.setJointTargetPosition(joint2, 0)"
   ]
  },
  {
   "cell_type": "code",
   "execution_count": 70,
   "id": "75169f43",
   "metadata": {},
   "outputs": [],
   "source": [
    "sim.startSimulation()\n",
    "reset_arms(sim, joint1, joint2)"
   ]
  },
  {
   "cell_type": "code",
   "execution_count": 71,
   "id": "87919ee3-0511-4e0e-9444-24f489dc3f24",
   "metadata": {
    "tags": []
   },
   "outputs": [],
   "source": [
    "angle1, angle2 = 90 , 90"
   ]
  },
  {
   "cell_type": "code",
   "execution_count": 72,
   "id": "fbfa85b5-dfd1-4ea1-8588-7141b4c64f14",
   "metadata": {
    "tags": []
   },
   "outputs": [
    {
     "data": {
      "text/plain": [
       "1"
      ]
     },
     "execution_count": 72,
     "metadata": {},
     "output_type": "execute_result"
    }
   ],
   "source": [
    "# Rotate joint1\n",
    "theta = np.deg2rad(angle1)\n",
    "sim.setJointTargetPosition(joint1, theta)\n",
    "\n",
    "# Rotate joint2\n",
    "theta = np.deg2rad(angle2)\n",
    "sim.setJointTargetPosition(joint2, theta)"
   ]
  },
  {
   "cell_type": "code",
   "execution_count": 73,
   "id": "1ac0acde",
   "metadata": {},
   "outputs": [
    {
     "name": "stdout",
     "output_type": "stream",
     "text": [
      "[0.5000000292298403, -5.463980676939608e-09, 8.436569052389098e-08]\n"
     ]
    }
   ],
   "source": [
    "# Get link1's position\n",
    "print(sim.getObjectPosition(dummy, sim.handle_world))"
   ]
  },
  {
   "cell_type": "code",
   "execution_count": 75,
   "id": "56af614d",
   "metadata": {},
   "outputs": [],
   "source": [
    "\n",
    "theta1 = [10, 20 , -10, -130, 0]\n",
    "theta2 = [90, -80 , 10, -100, 0]\n",
    "\n",
    "# theta1 = [0 for _ in theta1]\n",
    "\n",
    "for t1, t2 in zip(theta1, theta2):\n",
    "    t1, t2 = np.deg2rad([t1, t2])\n",
    "    sim.setJointTargetPosition(joint1, t1)\n",
    "    sim.setJointTargetPosition(joint2, t2)\n",
    "    sleep(0.5)\n",
    "\n"
   ]
  },
  {
   "cell_type": "code",
   "execution_count": 68,
   "id": "8ea2172e-1f87-4e68-906f-858e338146db",
   "metadata": {},
   "outputs": [
    {
     "data": {
      "text/plain": [
       "1"
      ]
     },
     "execution_count": 68,
     "metadata": {},
     "output_type": "execute_result"
    }
   ],
   "source": [
    "sim.stopSimulation()"
   ]
  },
  {
   "cell_type": "code",
   "execution_count": null,
   "id": "ebf11839-2185-40c9-a05a-4642fcdc40a8",
   "metadata": {},
   "outputs": [],
   "source": []
  }
 ],
 "metadata": {
  "kernelspec": {
   "display_name": "Python 3 (ipykernel)",
   "language": "python",
   "name": "python3"
  },
  "language_info": {
   "codemirror_mode": {
    "name": "ipython",
    "version": 3
   },
   "file_extension": ".py",
   "mimetype": "text/x-python",
   "name": "python",
   "nbconvert_exporter": "python",
   "pygments_lexer": "ipython3",
   "version": "3.10.6"
  }
 },
 "nbformat": 4,
 "nbformat_minor": 5
}
