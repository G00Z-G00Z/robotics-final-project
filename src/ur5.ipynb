{
 "cells": [
  {
   "cell_type": "markdown",
   "id": "35eb135d",
   "metadata": {},
   "source": [
    "# UR5 Simulation forward kinematics\n",
    "**Author** Eduardo Gomez\n",
    "\n",
    "Using the Denavit-Hartenberg parameters of the UR5, program the forward kinematics"
   ]
  },
  {
   "cell_type": "code",
   "execution_count": 5,
   "id": "f8556ade-cabe-4e90-a422-4127f01d6493",
   "metadata": {
    "tags": []
   },
   "outputs": [],
   "source": [
    "# Import libraries\n",
    "import zmqRemoteApi\n",
    "import numpy as np\n",
    "from time import sleep\n",
    "from pathlib import Path\n",
    "import pandas as pd\n",
    "import utils"
   ]
  },
  {
   "cell_type": "markdown",
   "id": "6dce8dea-05ae-41eb-a6e4-87944a1bbd31",
   "metadata": {},
   "source": [
    "## Setup Data\n",
    "\n",
    "Here we will set up the data for the Denavit-Hartenberg parameters. The data was from: ..."
   ]
  },
  {
   "cell_type": "code",
   "execution_count": null,
   "id": "44fa6600-9418-4d98-a53c-01f93f1c4eb6",
   "metadata": {
    "tags": []
   },
   "outputs": [],
   "source": [
    "# First one I think is wrong\n",
    "utils.\n",
    "\n"
   ]
  },
  {
   "cell_type": "markdown",
   "id": "fceba07e-ab01-49b4-89ce-4fbaab117029",
   "metadata": {},
   "source": [
    "The matriz transformations can be expressed like these: \n",
    "\n",
    "$$\n",
    "H_i^{i-1} = Rot_z(\\theta_i)T(0,0,d_i)T(a_i, 0, 0)Rotx(\\alpha_i)\n",
    "$$\n",
    "\n",
    "Esto se lee como una rotacion $\\theta$ en $z$, una translacion $d$ en $z$, translacion $a$ en $x$ y rotacion $\\alpha$ en $x$,\n",
    "\n",
    "Here we'll define some utility functions"
   ]
  },
  {
   "cell_type": "markdown",
   "id": "f8be8ae1-d2e0-4fd2-8b9f-c4160be83c3d",
   "metadata": {},
   "source": [
    "# Transformation matrix calcs\n",
    "\n",
    "Because for the moment, all $\\theta = 0$, the final coord is in the final matrix"
   ]
  },
  {
   "cell_type": "markdown",
   "id": "9e2096f9-a6e1-4ecf-a0ab-edb8c5270d9e",
   "metadata": {},
   "source": [
    "## Setup simulation\n",
    "\n",
    "To set up the simulation, open the `./sim/ur5-simulation.ttt` file. Then run the following code: \n",
    "\n",
    "> If there is an error, either the file is not opened or another script is controlling it"
   ]
  },
  {
   "cell_type": "code",
   "execution_count": 3,
   "id": "1b5c2c76",
   "metadata": {
    "tags": []
   },
   "outputs": [
    {
     "name": "stdout",
     "output_type": "stream",
     "text": [
      "<class 'zmqRemoteApi.sim'>\n"
     ]
    }
   ],
   "source": [
    "# Create a client to get connected to the zmqremoteApi sernver from CoppeliaSim\n",
    "client = zmqRemoteApi.RemoteAPIClient()\n",
    "\n",
    "# Get the remote object 'sim'\n",
    "sim = client.getObject('sim')\n",
    "\n",
    "print(sim)"
   ]
  },
  {
   "cell_type": "markdown",
   "id": "49667f4e-3c06-45b2-9759-d077210e57e0",
   "metadata": {},
   "source": [
    "Here, we set up the id for controlling the robot"
   ]
  },
  {
   "cell_type": "code",
   "execution_count": 11,
   "id": "c70d0865-1afb-40ca-8583-6f611a026e3e",
   "metadata": {
    "tags": []
   },
   "outputs": [],
   "source": [
    "UR5_sim_obj_id = \"/UR5\"\n",
    "base_id = sim.getObject(UR5_sim_obj_id)\n",
    "\n",
    "# the last joint is the rotor for the end effector\n",
    "# does not affect the final position\n",
    "no_joints = 6\n",
    "joint_sim_names = [None for _ in range(6)]\n",
    "\n",
    "joint_sim_names[0] = f\"{UR5_sim_obj_id}/joint\"\n",
    "\n",
    "for i in range(1,len(joint_sim_names)):\n",
    "    link_joint_str = \"/link/joint\" * i\n",
    "    joint_sim_names[i] = f\"{UR5_sim_obj_id}{link_joint_str}\"\n",
    "\n",
    "connection_name = f\"{UR5_sim_obj_id}/connection\""
   ]
  },
  {
   "cell_type": "code",
   "execution_count": 12,
   "id": "6a196daf-e287-496d-adc1-019c88de80a7",
   "metadata": {
    "tags": []
   },
   "outputs": [],
   "source": [
    "# Assert that names have id. Error is thrown if id doesnt exists\n",
    "joint_id = [\n",
    "    sim.getObject(name) for name in joint_sim_names\n",
    "]\n",
    "connection_id = sim.getObject(connection_name)"
   ]
  },
  {
   "cell_type": "code",
   "execution_count": 13,
   "id": "9538f426-3e15-4fa8-8f39-7e7749030714",
   "metadata": {
    "tags": []
   },
   "outputs": [],
   "source": [
    "def reset_arm():\n",
    "    \"\"\"\n",
    "    Resets the arm position to 0 deg\n",
    "    \"\"\"\n",
    "    for j in joint_id:\n",
    "        sim.setJointTargetPosition(j, np.deg2rad(0))"
   ]
  },
  {
   "cell_type": "code",
   "execution_count": 22,
   "id": "ebf11839-2185-40c9-a05a-4642fcdc40a8",
   "metadata": {
    "tags": []
   },
   "outputs": [],
   "source": [
    "sim.startSimulation()\n",
    "reset_arm()"
   ]
  },
  {
   "cell_type": "code",
   "execution_count": 15,
   "id": "f06dc0a7-0d9a-420b-a4a5-f2dc4ad9c510",
   "metadata": {
    "tags": []
   },
   "outputs": [],
   "source": [
    "reset_arm()"
   ]
  },
  {
   "cell_type": "code",
   "execution_count": 16,
   "id": "035b4354-f872-4628-864d-05052029dd7e",
   "metadata": {
    "tags": []
   },
   "outputs": [
    {
     "name": "stdout",
     "output_type": "stream",
     "text": [
      "[-0.1850380369714104, -5.254494075357469e-06, 0.9780366418975974]\n",
      "j0: [ 0. -0.  0.]\n",
      "j1: [-0.0703 -0.      0.066 ]\n",
      "j2: [-0.0703 -0.      0.4911]\n",
      "j3: [-0.0704 -0.      0.8833]\n",
      "j4: [-0.1101 -0.      0.9289]\n",
      "j5: [-0.0957 -0.      0.978 ]\n",
      "cn: [-0.185 -0.     0.978]\n"
     ]
    }
   ],
   "source": [
    "\n",
    "print(sim.getObjectPosition(connection_id, sim.handle_world))\n",
    "angles = [0 for _ in range(6)]\n",
    "# angles[1] = 90\n",
    "angles = [np.deg2rad(a) for a in angles]\n",
    "assert len(angles) == no_joints\n",
    "\n",
    "for a, j in zip(angles, joint_id):\n",
    "    sim.setJointTargetPosition(j, a)\n",
    "\n",
    "sleep(1)\n",
    "\n",
    "for idx, j in enumerate(joint_id):\n",
    "    coord = sim.getObjectPosition(j, sim.handle_world)\n",
    "    print(f\"j{idx}: {np.round(coord,4)}\")\n",
    "\n",
    "coord = sim.getObjectPosition(connection_id, sim.handle_world)\n",
    "print(f\"cn: {np.round(coord,4)}\")\n",
    "\n"
   ]
  },
  {
   "cell_type": "markdown",
   "id": "571f8c27-d79e-473e-aa34-e8e06302d332",
   "metadata": {},
   "source": [
    "Here we stop the simulation"
   ]
  },
  {
   "cell_type": "code",
   "execution_count": 29,
   "id": "650063ad-8562-4634-924f-ceecf384f38f",
   "metadata": {
    "tags": []
   },
   "outputs": [
    {
     "name": "stdout",
     "output_type": "stream",
     "text": [
      "Final coordinate in simulation\n",
      "[-0.185 -0.     0.978]\n",
      "Final coordinate according to method\n",
      "[-0.0397  0.8665  0.0661]\n"
     ]
    }
   ],
   "source": [
    "\n",
    "print(\"Final coordinate in simulation\")\n",
    "print_rounded(coord)\n",
    "print(\"Final coordinate according to method\")\n",
    "print_rounded(H_total[0:3,3])\n"
   ]
  },
  {
   "cell_type": "code",
   "execution_count": 21,
   "id": "759e7568-79bc-4550-986a-84629fad528d",
   "metadata": {
    "tags": []
   },
   "outputs": [
    {
     "data": {
      "text/plain": [
       "1"
      ]
     },
     "execution_count": 21,
     "metadata": {},
     "output_type": "execute_result"
    }
   ],
   "source": [
    "sim.stopSimulation()"
   ]
  }
 ],
 "metadata": {
  "kernelspec": {
   "display_name": "Python 3 (ipykernel)",
   "language": "python",
   "name": "python3"
  },
  "language_info": {
   "codemirror_mode": {
    "name": "ipython",
    "version": 3
   },
   "file_extension": ".py",
   "mimetype": "text/x-python",
   "name": "python",
   "nbconvert_exporter": "python",
   "pygments_lexer": "ipython3",
   "version": "3.10.6"
  }
 },
 "nbformat": 4,
 "nbformat_minor": 5
}
