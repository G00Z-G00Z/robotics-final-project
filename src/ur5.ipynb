{
 "cells": [
  {
   "cell_type": "markdown",
   "id": "35eb135d",
   "metadata": {},
   "source": [
    "## Controlling a two-link robotic arm from Python using zqmRemoteApi"
   ]
  },
  {
   "cell_type": "code",
   "execution_count": 1,
   "id": "f8556ade-cabe-4e90-a422-4127f01d6493",
   "metadata": {
    "tags": []
   },
   "outputs": [],
   "source": [
    "# Import libraries\n",
    "import zmqRemoteApi\n",
    "import numpy as np\n",
    "from time import sleep\n",
    "from pathlib import Path"
   ]
  },
  {
   "cell_type": "code",
   "execution_count": 2,
   "id": "1b5c2c76",
   "metadata": {},
   "outputs": [],
   "source": [
    "# Create a client to get connected to the zmqremoteApi sernver from CoppeliaSim\n",
    "client = zmqRemoteApi.RemoteAPIClient()\n",
    "\n",
    "# Get the remote object 'sim'\n",
    "sim = client.getObject('sim')\n"
   ]
  },
  {
   "cell_type": "code",
   "execution_count": 3,
   "id": "c70d0865-1afb-40ca-8583-6f611a026e3e",
   "metadata": {
    "tags": []
   },
   "outputs": [],
   "source": [
    "UR5_sim_obj_id = \"/UR5\"\n",
    "base_id = sim.getObject(UR5_sim_obj_id)\n",
    "\n",
    "# the last joint is the rotor for the end effector\n",
    "# does not affect the final position\n",
    "no_joints = 6\n",
    "joint_sim_names = [None for _ in range(6)]\n",
    "\n",
    "joint_sim_names[0] = f\"{UR5_sim_obj_id}/joint\"\n",
    "\n",
    "for i in range(1,len(joint_sim_names)):\n",
    "    link_joint_str = \"/link/joint\" * i\n",
    "    joint_sim_names[i] = f\"{UR5_sim_obj_id}{link_joint_str}\"\n",
    "\n",
    "connection_name = f\"{UR5_sim_obj_id}/connection\""
   ]
  },
  {
   "cell_type": "code",
   "execution_count": 4,
   "id": "6a196daf-e287-496d-adc1-019c88de80a7",
   "metadata": {
    "tags": []
   },
   "outputs": [],
   "source": [
    "# Assert that names have id. Error is thrown if id doesnt exists\n",
    "joint_id = [\n",
    "    sim.getObject(name) for name in joint_sim_names\n",
    "]\n",
    "connection_id = sim.getObject(connection_name)"
   ]
  },
  {
   "cell_type": "code",
   "execution_count": 6,
   "id": "9538f426-3e15-4fa8-8f39-7e7749030714",
   "metadata": {
    "tags": []
   },
   "outputs": [],
   "source": [
    "def reset_arm():\n",
    "    \"\"\"\n",
    "    Resets the arm position to 0 deg\n",
    "    \"\"\"\n",
    "    for j in joint_id:\n",
    "        sim.setJointTargetPosition(j, np.deg2rad(0))"
   ]
  },
  {
   "cell_type": "code",
   "execution_count": 10,
   "id": "ebf11839-2185-40c9-a05a-4642fcdc40a8",
   "metadata": {},
   "outputs": [
    {
     "name": "stdout",
     "output_type": "stream",
     "text": [
      "[-0.3850597252513398, 0.2271740342543434, 1.0011738855312824]\n"
     ]
    }
   ],
   "source": [
    "sim.startSimulation()\n"
   ]
  },
  {
   "cell_type": "code",
   "execution_count": 17,
   "id": "f06dc0a7-0d9a-420b-a4a5-f2dc4ad9c510",
   "metadata": {
    "tags": []
   },
   "outputs": [],
   "source": [
    "reset_arm()"
   ]
  },
  {
   "cell_type": "code",
   "execution_count": 18,
   "id": "035b4354-f872-4628-864d-05052029dd7e",
   "metadata": {
    "tags": []
   },
   "outputs": [
    {
     "name": "stdout",
     "output_type": "stream",
     "text": [
      "[-0.38503810662955107, 0.22499981038377734, 1.001186528039899]\n",
      "Connection final position\n",
      "[-0.042423557235479414, 0.12796914759588116, 0.798946816357908]\n"
     ]
    }
   ],
   "source": [
    "\n",
    "print(sim.getObjectPosition(connection_id, sim.handle_world))\n",
    "angles = [90, -45, 80, -40, 100, 80]\n",
    "angles = [np.deg2rad(a) for a in angles]\n",
    "assert len(angles) == no_joints\n",
    "\n",
    "for a, j in zip(angles, joint_id):\n",
    "    sim.setJointTargetPosition(j, a)\n",
    "\n",
    "sleep(1)\n",
    "print(\"Connection final position\")\n",
    "print(sim.getObjectPosition(connection_id, sim.handle_world))\n",
    "\n"
   ]
  },
  {
   "cell_type": "code",
   "execution_count": 9,
   "id": "759e7568-79bc-4550-986a-84629fad528d",
   "metadata": {
    "tags": []
   },
   "outputs": [
    {
     "data": {
      "text/plain": [
       "1"
      ]
     },
     "execution_count": 9,
     "metadata": {},
     "output_type": "execute_result"
    }
   ],
   "source": [
    "sim.stopSimulation()"
   ]
  }
 ],
 "metadata": {
  "kernelspec": {
   "display_name": "Python 3 (ipykernel)",
   "language": "python",
   "name": "python3"
  },
  "language_info": {
   "codemirror_mode": {
    "name": "ipython",
    "version": 3
   },
   "file_extension": ".py",
   "mimetype": "text/x-python",
   "name": "python",
   "nbconvert_exporter": "python",
   "pygments_lexer": "ipython3",
   "version": "3.10.6"
  }
 },
 "nbformat": 4,
 "nbformat_minor": 5
}
