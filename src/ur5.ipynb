{
 "cells": [
  {
   "cell_type": "markdown",
   "id": "35eb135d",
   "metadata": {},
   "source": [
    "# UR5 Simulation forward kinematics\n",
    "**Author** Eduardo Gomez\n",
    "\n",
    "Using the homogeneos matrix method, predict the foward kinematics of the UR5 "
   ]
  },
  {
   "cell_type": "code",
   "execution_count": 1,
   "id": "f8556ade-cabe-4e90-a422-4127f01d6493",
   "metadata": {
    "tags": []
   },
   "outputs": [],
   "source": [
    "# Import libraries\n",
    "import zmqRemoteApi\n",
    "import numpy as np\n",
    "from time import sleep\n",
    "from pathlib import Path\n",
    "import pandas as pd\n",
    "import utils\n",
    "from utils import print_rounded_np\n",
    "from IPython.display import display, Markdown, Latex"
   ]
  },
  {
   "cell_type": "markdown",
   "id": "9e2096f9-a6e1-4ecf-a0ab-edb8c5270d9e",
   "metadata": {},
   "source": [
    "## Setup simulation\n",
    "\n",
    "To set up the simulation, open the `./sim/ur5-simulation.ttt` file. Then run the following code: \n",
    "\n",
    "> If there is an error, either the file is not opened or another script is controlling it"
   ]
  },
  {
   "cell_type": "code",
   "execution_count": 2,
   "id": "1b5c2c76",
   "metadata": {
    "tags": []
   },
   "outputs": [],
   "source": [
    "# Create a client to get connected to the zmqremoteApi sernver from CoppeliaSim\n",
    "client = zmqRemoteApi.RemoteAPIClient()\n",
    "\n",
    "# Get the remote object 'sim'\n",
    "sim = client.getObject('sim')\n"
   ]
  },
  {
   "cell_type": "markdown",
   "id": "49667f4e-3c06-45b2-9759-d077210e57e0",
   "metadata": {},
   "source": [
    "Here, we set up the id for controlling the robot"
   ]
  },
  {
   "cell_type": "code",
   "execution_count": 3,
   "id": "c70d0865-1afb-40ca-8583-6f611a026e3e",
   "metadata": {
    "tags": []
   },
   "outputs": [],
   "source": [
    "UR5_sim_obj_id = \"/UR5\"\n",
    "base_id = sim.getObject(UR5_sim_obj_id)\n",
    "\n",
    "# the last joint is the rotor for the end effector\n",
    "# does not affect the final position\n",
    "no_joints = 6\n",
    "joint_sim_names = [None for _ in range(6)]\n",
    "\n",
    "joint_sim_names[0] = f\"{UR5_sim_obj_id}/joint\"\n",
    "\n",
    "for i in range(1,len(joint_sim_names)):\n",
    "    link_joint_str = \"/link/joint\" * i\n",
    "    joint_sim_names[i] = f\"{UR5_sim_obj_id}{link_joint_str}\"\n"
   ]
  },
  {
   "cell_type": "code",
   "execution_count": 4,
   "id": "6a196daf-e287-496d-adc1-019c88de80a7",
   "metadata": {
    "tags": []
   },
   "outputs": [],
   "source": [
    "# Assert that names have id. Error is thrown if id doesnt exists\n",
    "joint_id = [\n",
    "    sim.getObject(name) for name in joint_sim_names\n",
    "]"
   ]
  },
  {
   "cell_type": "markdown",
   "id": "3d4306cd-4e55-4ed7-8210-4c3883176121",
   "metadata": {},
   "source": [
    "## Setup Data\n",
    "\n",
    "This is the general logic on how to set up the data\n",
    "\n",
    "1. Set up the joints to have 0 deg\n",
    "2. Pair each set of joints as a \"Link\"\n",
    "3. For each Link, get the transformation matrix from the first joint to the next\n",
    "4. Multiply every transformation matrix in order to get a transformation matrix from the base to the last joint"
   ]
  },
  {
   "cell_type": "code",
   "execution_count": 5,
   "id": "9cbb189d-bde1-4934-b59d-2f4b3db21809",
   "metadata": {},
   "outputs": [],
   "source": [
    "joints = [utils.Joint(sim,_id) for _id in joint_id]\n",
    "\n",
    "links = [utils.Link(sim, prev, _next) for prev, _next in utils.window_iter(joints,2)]\n",
    "\n",
    "robot_arm = utils.RobotArm(links)\n"
   ]
  },
  {
   "cell_type": "code",
   "execution_count": 11,
   "id": "6138edf9-edc6-4398-a5bd-97ad134a169d",
   "metadata": {
    "tags": []
   },
   "outputs": [
    {
     "name": "stdout",
     "output_type": "stream",
     "text": [
      "[ 0. -0.  0.]\n",
      "[-0.0956  0.      0.9781]\n",
      "[[-0.      -0.      -1.      -0.0703 ]\n",
      " [ 0.       1.      -0.       0.     ]\n",
      " [ 1.       0.      -0.       0.06605]\n",
      " [ 0.       0.       0.       1.     ]]\n",
      "[[1.     0.     0.     0.4251]\n",
      " [0.     1.     0.     0.    ]\n",
      " [0.     0.     1.     0.    ]\n",
      " [0.     0.     0.     1.    ]]\n"
     ]
    }
   ],
   "source": [
    "print(joints[0].position)\n",
    "print(joints[-1].position)\n",
    "\n",
    "print(links[0].initial_homogeneous_matrix)\n",
    "print(links[1].initial_homogeneous_matrix)"
   ]
  },
  {
   "cell_type": "markdown",
   "id": "d071cb40-1479-40dc-a398-6fd3234b4429",
   "metadata": {},
   "source": [
    "## Resting angle prediction "
   ]
  },
  {
   "cell_type": "code",
   "execution_count": 6,
   "id": "f3d39f58-51fc-4830-8237-41320028d610",
   "metadata": {},
   "outputs": [
    {
     "name": "stdout",
     "output_type": "stream",
     "text": [
      "Predicted\n",
      "[-0.0956  0.      0.978 ]\n",
      "Actual\n",
      "[-0.0956  0.      0.9781]\n"
     ]
    }
   ],
   "source": [
    "\n",
    "predicted = robot_arm.get_predicted_position([0,0,0,0,0])\n",
    "\n",
    "print(\"Predicted\")\n",
    "print_rounded_np(predicted[0:3])\n",
    "\n",
    "print(\"Actual\")\n",
    "print_rounded_np(joints[-1].position)\n"
   ]
  },
  {
   "cell_type": "markdown",
   "id": "f6891dd2-409c-4555-9958-778cdf2e7595",
   "metadata": {},
   "source": [
    "## Variable angle prediction"
   ]
  },
  {
   "cell_type": "code",
   "execution_count": 7,
   "id": "e7c225db-5ec8-459b-bf60-ea0379ef02db",
   "metadata": {
    "tags": []
   },
   "outputs": [
    {
     "data": {
      "text/markdown": [
       "\n",
       "|Run|Angle Set|Predicted position (x,y,z)|Actual position (x,y,z)\n",
       "|---|--------|-----------------|--------------|\n",
       "|1|(20, 30, 15, 5, 45)|[-0.2884  0.5005  0.7646]|[-0.2886  0.5009  0.7643]|\n",
       "|2|(0, -90, 90, 0, 90)|[-0.11   -0.4107  0.553 ]|[-0.11   -0.4109  0.5528]|\n",
       "|3|(0, 10, 20, 30, 40)|[-0.099   0.3566  0.8637]|[-0.099   0.3568  0.8635]|\n"
      ],
      "text/plain": [
       "<IPython.core.display.Markdown object>"
      ]
     },
     "metadata": {},
     "output_type": "display_data"
    }
   ],
   "source": [
    "\n",
    "AnglePositions_T = tuple[int,int,int,int,int]\n",
    "\n",
    "angles_to_try : list[AnglePositions_T] = [\n",
    "    (20,30,15,5,45),\n",
    "    (0,-90, 90,0,90),\n",
    "    (0,10,20, 30,40),\n",
    "]\n",
    "\n",
    "\n",
    "errors = []\n",
    "rel_err = []\n",
    "\n",
    "table_txt = \"\"\"\n",
    "|Run|Angle Set|Predicted position (x,y,z)|Actual position (x,y,z)\n",
    "|---|--------|-----------------|--------------|\n",
    "\"\"\"\n",
    "with utils.start_simulation(sim):\n",
    "    robot_arm.reset_arm()\n",
    "    sleep(1)\n",
    "    \n",
    "    for idx, sets in enumerate(angles_to_try):\n",
    "        predicted = robot_arm.get_predicted_position(sets)[0:3]\n",
    "\n",
    "        robot_arm.set_position_arm(sets)\n",
    "        sleep(1)\n",
    "        \n",
    "        actual = joints[-1].position\n",
    "        \n",
    "        abs_error = predicted - actual\n",
    "        errors.append(abs_error)\n",
    "        rel_err.append(np.divide(abs_error,actual))\n",
    "        \n",
    "        table_txt += f\"|{idx + 1}|{sets}|{np.round(predicted, 4)}|{np.round(actual, 4)}|\\n\"\n",
    "\n",
    "display(Markdown(table_txt))\n",
    "\n",
    "\n"
   ]
  },
  {
   "cell_type": "code",
   "execution_count": 8,
   "id": "3cd27661-79d6-4fed-a912-27cd78236626",
   "metadata": {
    "tags": []
   },
   "outputs": [
    {
     "name": "stdout",
     "output_type": "stream",
     "text": [
      "Mean of abs error:  0.0002 mts\n",
      "Mean of rel error:  0.0004\n",
      "Mean of % error:  0.0434 %\n"
     ]
    }
   ],
   "source": [
    "\n",
    "errors = np.abs(np.array(errors))\n",
    "rel_err = np.abs(np.array(rel_err))\n",
    "\n",
    "abs_error_mean = errors.mean()\n",
    "rel_error_mean = rel_err.mean()\n",
    "\n",
    "print(\"Mean of abs error: \", np.round(abs_error_mean,4), \"mts\")\n",
    "print(\"Mean of rel error: \", np.round(rel_error_mean,4))\n",
    "print(\"Mean of % error: \", np.round(rel_error_mean * 100,4), \"%\")"
   ]
  },
  {
   "cell_type": "markdown",
   "id": "9951b0ef-c0b3-4c69-98b6-4050231688b1",
   "metadata": {},
   "source": [
    "# Conclusions\n",
    "\n",
    "My conclusion: \n",
    "\n",
    "DH parameters would represent an easier way to store all the foward kinematics of the robot. However, due to the UR and Coppelia sim not beign in sync, it was really problematic. \n",
    "\n",
    "However, using the most direct approach for the Homogeneous matrix, provides a very large simplification on predicting new positions. \n",
    "\n",
    "Maybe the abstraction layer I build was not necesary, but it helped me understand better the flow of th app. \n",
    "\n",
    "## What would you like to learn/add to this assignment if you had to complete it just for fun and for the sole intention of learning more about this topic/simulator?\n",
    "\n",
    "I would love to learn how to use the simulator and how to use different arms. Also, I would like to create a python GUI to interact in real time with the simulation. \n",
    "\n",
    "# Reference\n",
    "\n",
    "- The material seen in class for the Homogeneous matrixes"
   ]
  }
 ],
 "metadata": {
  "kernelspec": {
   "display_name": "Python 3 (ipykernel)",
   "language": "python",
   "name": "python3"
  },
  "language_info": {
   "codemirror_mode": {
    "name": "ipython",
    "version": 3
   },
   "file_extension": ".py",
   "mimetype": "text/x-python",
   "name": "python",
   "nbconvert_exporter": "python",
   "pygments_lexer": "ipython3",
   "version": "3.10.6"
  }
 },
 "nbformat": 4,
 "nbformat_minor": 5
}
